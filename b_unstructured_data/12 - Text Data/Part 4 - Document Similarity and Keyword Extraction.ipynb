{
 "cells": [
  {
   "cell_type": "markdown",
   "metadata": {},
   "source": [
    "# INFORMATION RETRIEVAL (IR)"
   ]
  },
  {
   "cell_type": "code",
   "execution_count": 1,
   "metadata": {},
   "outputs": [],
   "source": [
    "import pandas as pd"
   ]
  },
  {
   "cell_type": "code",
   "execution_count": 2,
   "metadata": {},
   "outputs": [],
   "source": [
    "from nltk.tokenize import word_tokenize\n",
    "from nltk.corpus import stopwords\n",
    "from string import punctuation\n",
    "\n",
    "sw_indo = stopwords.words(\"indonesian\") + list(punctuation)"
   ]
  },
  {
   "cell_type": "markdown",
   "metadata": {},
   "source": [
    "# Import Data"
   ]
  },
  {
   "cell_type": "code",
   "execution_count": 3,
   "metadata": {},
   "outputs": [
    {
     "data": {
      "text/html": [
       "<div>\n",
       "<style scoped>\n",
       "    .dataframe tbody tr th:only-of-type {\n",
       "        vertical-align: middle;\n",
       "    }\n",
       "\n",
       "    .dataframe tbody tr th {\n",
       "        vertical-align: top;\n",
       "    }\n",
       "\n",
       "    .dataframe thead th {\n",
       "        text-align: right;\n",
       "    }\n",
       "</style>\n",
       "<table border=\"1\" class=\"dataframe\">\n",
       "  <thead>\n",
       "    <tr style=\"text-align: right;\">\n",
       "      <th></th>\n",
       "      <th>teks</th>\n",
       "    </tr>\n",
       "  </thead>\n",
       "  <tbody>\n",
       "    <tr>\n",
       "      <th>0</th>\n",
       "      <td>Ginandjar Tetap Ditahan. Jaksa Agung Dilaporka...</td>\n",
       "    </tr>\n",
       "    <tr>\n",
       "      <th>1</th>\n",
       "      <td>Jakarta Dikangkangi Para Preman\\nKALAU tak pun...</td>\n",
       "    </tr>\n",
       "    <tr>\n",
       "      <th>2</th>\n",
       "      <td>Penyimpangan di Setpres Seolah Terjadi Sekaran...</td>\n",
       "    </tr>\n",
       "    <tr>\n",
       "      <th>3</th>\n",
       "      <td>Dibayarkan, Rapel Kenaikan Gaji Pegawai Pos\\nK...</td>\n",
       "    </tr>\n",
       "    <tr>\n",
       "      <th>4</th>\n",
       "      <td>Stop Kekerasan, Elite agar Duduk Bersama\\nSeju...</td>\n",
       "    </tr>\n",
       "  </tbody>\n",
       "</table>\n",
       "</div>"
      ],
      "text/plain": [
       "                                                teks\n",
       "0  Ginandjar Tetap Ditahan. Jaksa Agung Dilaporka...\n",
       "1  Jakarta Dikangkangi Para Preman\\nKALAU tak pun...\n",
       "2  Penyimpangan di Setpres Seolah Terjadi Sekaran...\n",
       "3  Dibayarkan, Rapel Kenaikan Gaji Pegawai Pos\\nK...\n",
       "4  Stop Kekerasan, Elite agar Duduk Bersama\\nSeju..."
      ]
     },
     "execution_count": 3,
     "metadata": {},
     "output_type": "execute_result"
    }
   ],
   "source": [
    "df = pd.read_csv(\"data/kompas.csv\")\n",
    "df.head()"
   ]
  },
  {
   "cell_type": "markdown",
   "metadata": {},
   "source": [
    "# Extract TFIDF"
   ]
  },
  {
   "cell_type": "code",
   "execution_count": 9,
   "metadata": {},
   "outputs": [],
   "source": [
    "from sklearn.feature_extraction.text import TfidfVectorizer\n",
    "from sklearn.feature_extraction.text import CountVectorizer, TfidfVectorizer"
   ]
  },
  {
   "cell_type": "code",
   "execution_count": 11,
   "metadata": {},
   "outputs": [
    {
     "name": "stderr",
     "output_type": "stream",
     "text": [
      "C:\\Users\\Damianus Deni\\Miniconda3\\envs\\jcopml\\lib\\site-packages\\sklearn\\feature_extraction\\text.py:385: UserWarning: Your stop_words may be inconsistent with your preprocessing. Tokenizing the stop words generated tokens ['``'] not in stop_words.\n",
      "  'stop_words.' % sorted(inconsistent))\n"
     ]
    }
   ],
   "source": [
    "tfidf = TfidfVectorizer(ngram_range=(1, 2), tokenizer=word_tokenize, stop_words=sw_indo)\n",
    "tfidf_matrix = tfidf.fit_transform(df.teks)"
   ]
  },
  {
   "cell_type": "markdown",
   "metadata": {},
   "source": [
    "# Document Similarity"
   ]
  },
  {
   "cell_type": "code",
   "execution_count": 12,
   "metadata": {},
   "outputs": [],
   "source": [
    "from sklearn.metrics.pairwise import cosine_distances\n",
    "# cosine_distance = 1 - cos_similarity"
   ]
  },
  {
   "cell_type": "code",
   "execution_count": 13,
   "metadata": {},
   "outputs": [
    {
     "data": {
      "text/plain": [
       "<1x548404 sparse matrix of type '<class 'numpy.float64'>'\n",
       "\twith 784 stored elements in Compressed Sparse Row format>"
      ]
     },
     "execution_count": 13,
     "metadata": {},
     "output_type": "execute_result"
    }
   ],
   "source": [
    "tfidf_matrix[0]"
   ]
  },
  {
   "cell_type": "code",
   "execution_count": 14,
   "metadata": {},
   "outputs": [
    {
     "data": {
      "text/plain": [
       "array([[0.        , 0.99141672, 0.98939957, ..., 0.99143713, 0.99322192,\n",
       "        0.98486659]])"
      ]
     },
     "execution_count": 14,
     "metadata": {},
     "output_type": "execute_result"
    }
   ],
   "source": [
    "# satu dokumen dibandingkan dengan semua dokumen untuk mencari kemiripan\n",
    "dist = cosine_distances(tfidf_matrix[0], tfidf_matrix)\n",
    "dist"
   ]
  },
  {
   "cell_type": "code",
   "execution_count": 28,
   "metadata": {},
   "outputs": [
    {
     "data": {
      "text/plain": [
       "array([[   0,  144,  215, ..., 1593, 1131,  932]], dtype=int64)"
      ]
     },
     "execution_count": 28,
     "metadata": {},
     "output_type": "execute_result"
    }
   ],
   "source": [
    "dist.argsort()\n",
    "# mengurutkan peringkat dengan menampilkan index nya"
   ]
  },
  {
   "cell_type": "code",
   "execution_count": 35,
   "metadata": {},
   "outputs": [
    {
     "data": {
      "text/plain": [
       "'Ginandjar Tetap Ditahan. Jaksa Agung Dilaporkan ke Polri\\nKejaksaan Agung memutuskan untuk tetap menahan tersangka kasus korupsi, Ginandjar Kartasasmita, sampai batas waktu yang ditentukan KUHAP. Sedan'"
      ]
     },
     "execution_count": 35,
     "metadata": {},
     "output_type": "execute_result"
    }
   ],
   "source": [
    "df.teks[0][:200]"
   ]
  },
  {
   "cell_type": "code",
   "execution_count": 37,
   "metadata": {},
   "outputs": [
    {
     "data": {
      "text/plain": [
       "'Kejaksaan Agung Terbitkan Surat Penahanan Baru\\nKejaksaan Agung (Kejagung) akhirnya menerbitkan surat perintah penahanan yang baru terhadap mantan Menteri Pertambangan dan Energi Ginandjar Kartasasmita'"
      ]
     },
     "execution_count": 37,
     "metadata": {},
     "output_type": "execute_result"
    }
   ],
   "source": [
    "df.teks[144][:200]"
   ]
  },
  {
   "cell_type": "code",
   "execution_count": 38,
   "metadata": {},
   "outputs": [
    {
     "data": {
      "text/plain": [
       "'Kuasa Hukum Ginandjar Bertahan di Rutan\\nSejumlah kuasa hukum Ginandjar Kartasasmita hingga hari Selasa (17/4) pukul 22.00 masih bertahan di ruang tahanan (rutan) Kejaksaan Agung (Kejagung). Selasa pag'"
      ]
     },
     "execution_count": 38,
     "metadata": {},
     "output_type": "execute_result"
    }
   ],
   "source": [
    "df.teks[215][:200]"
   ]
  },
  {
   "cell_type": "markdown",
   "metadata": {},
   "source": [
    "#### contoh penggunaan argsort "
   ]
  },
  {
   "cell_type": "code",
   "execution_count": 23,
   "metadata": {},
   "outputs": [],
   "source": [
    "import numpy as np"
   ]
  },
  {
   "cell_type": "code",
   "execution_count": 33,
   "metadata": {},
   "outputs": [],
   "source": [
    "a = np.array([0, 10, 50, 4, 81])"
   ]
  },
  {
   "cell_type": "code",
   "execution_count": 34,
   "metadata": {},
   "outputs": [
    {
     "data": {
      "text/plain": [
       "array([0, 3, 1, 2, 4], dtype=int64)"
      ]
     },
     "execution_count": 34,
     "metadata": {},
     "output_type": "execute_result"
    }
   ],
   "source": [
    "a.argsort()"
   ]
  },
  {
   "cell_type": "markdown",
   "metadata": {},
   "source": [
    "#### contoh penggunaan similarity dengan keyword"
   ]
  },
  {
   "cell_type": "code",
   "execution_count": 71,
   "metadata": {},
   "outputs": [
    {
     "data": {
      "text/plain": [
       "<1x548404 sparse matrix of type '<class 'numpy.float64'>'\n",
       "\twith 1 stored elements in Compressed Sparse Row format>"
      ]
     },
     "execution_count": 71,
     "metadata": {},
     "output_type": "execute_result"
    }
   ],
   "source": [
    "query = [\"ginanjar\"]\n",
    "tfidf.transform(query)"
   ]
  },
  {
   "cell_type": "code",
   "execution_count": 72,
   "metadata": {},
   "outputs": [],
   "source": [
    "def search(query, tfidf, tfidf_matrix, df):\n",
    "    vec = tfidf.transform([query])\n",
    "    dist = cosine_distances(vec, tfidf_matrix)\n",
    "    best_idx = dist.argsort()[0, :10]\n",
    "    return df.teks[best_idx] "
   ]
  },
  {
   "cell_type": "code",
   "execution_count": 73,
   "metadata": {
    "scrolled": true
   },
   "outputs": [
    {
     "data": {
      "text/plain": [
       "483     Wartawan Diculik Sindikat VCD Porno\\n\\nSalah s...\n",
       "628     Menghindari Anthrax\\nBERKAITAN dengan Idul Adh...\n",
       "457     Menjawab Memorandum DPR\\n\\nDalam waktu dekat, ...\n",
       "297     20 Tahun AIDS   Masih Banyak yang Belum Terjaw...\n",
       "829     Presiden Bertemu Pimpinan TNI dan Polri\\nPresi...\n",
       "1580    Akan Dinaikkan hingga 700 Persen, PBB Vila di ...\n",
       "638     Tasawuf dan Kebatinan/Kejawen\\nOleh Abdurrahma...\n",
       "1621    RI-GAM Sepakat Lanjutkan Dialog\\n\\nPemerintah ...\n",
       "1520    Perusak Lingkungan Harus Diadili\\n\\nPihak-piha...\n",
       "1584    Korban Banjir Dapat Ajukan \"Class Action\"\\n\\nP...\n",
       "Name: teks, dtype: object"
      ]
     },
     "execution_count": 73,
     "metadata": {},
     "output_type": "execute_result"
    }
   ],
   "source": [
    "result = search (\"\"\"\n",
    "Juru bicara pemerintah untuk penanganan virus corona Achmad Yurianto mengatakan, pemerintah mengkhawatirkan keberadaan orang tanpa gejala (OTG) yang menjadi sumber penularan Covid-19 di tengah masyarakat. \"Kita masih tetap mewaspadai adanya penularan yang terjadi di lingkungan masyarakat. Ini disebabkan masih adanya kasus positif Covid-19 tanpa keluhan yang berada di tengah-tengah kita,\" ujar Yuri dalam konferensi pers di Graha BNPB, Sabtu (4/4/2020)\n",
    "\n",
    "Artikel ini telah tayang di Kompas.com dengan judul \"Jumlah Kasus Covid-19 Terus Bertambah, Pemerintah Khawatirkan Penularan dari OTG\", https://nasional.kompas.com/read/2020/04/04/18382271/jumlah-kasus-covid-19-terus-bertambah-pemerintah-khawatirkan-penularan-dari.\n",
    "Penulis : Dian Erika Nugraheny\n",
    "Editor : Kristian Erdianto\n",
    "\"\"\", tfidf, tfidf_matrix, df)\n",
    "\n",
    "result"
   ]
  },
  {
   "cell_type": "code",
   "execution_count": 74,
   "metadata": {
    "scrolled": true
   },
   "outputs": [
    {
     "data": {
      "text/plain": [
       "'Wartawan Diculik Sindikat VCD Porno\\n\\nSalah seorang wartawan Harian Lantang yang terbit di Batam, Dian Budiana (22), disekap beberapa orang yang diduga berhubungan dengan sindikat pembuat VCD porno dengan bintang film lokal yang berusia muda. Sebab salah satu di antara penculik, memberitahu yang bersangkutan ditahan agar tidak menulis berita tentang VCD porno lagi.\\n\\nSejak tanggal 16-22 Februari 2001, harian Lantang menurunkan laporan berseri berbentuk investigasi yang ditulis oleh Dian Budiana bersama wartawan lainnya Taufik Hidayat. Namun tulisan terhenti sejak Dian tak muncul di kantor karena dikira pulang kampung tanpa izin.\\n\\nDian yang dalam laporannya di koran itu sering menggunakan nama samaran Iyank Sulanjani, baru diketahui diculik setelah masuk kantor pada hari Sabtu sekitar pukul 14.00 dalam keadaan lemas. Kehadiran Dian membuat kaget rekannya, karena mukanya penuh dengan darah mengering akibat luka pada kening dan darah yang mengalir dari dalam telinga kiri.\\n\\nKetika ditemui di Polsek Lubuk Baja Batam, Sabtu (24/2) malam, Dian mengaku mulai disekap di sebuah rumah sejak Jumat (23/2) dini hari sekitar pukul 02.00. Saat itu, ia pulang kantor langsung menemui seorang gadis bernama Lucy di depan sebuah warung telepon (Wartel) di dekat Pasar Penuin.\\n\\nLucy yang dikenal beberapa hari sebelumnya di sebuah rumah makan, mengaku bersedia memberikan informasi mengenai pembuatan VCD di Batam. Dian tanpa curiga langsung menemui gadis yang diperkirakan masih duduk di bangku SMA tersebut.\\n\\nKetika bertemu, Lucy kemudian mengajak ke sebuah rumah karena sudah berjanji dengan seseorang untuk diperkenalkan dengannya. Tidak lama kemudian, dua orang rekan Lucy tiba dengan sebuah mobil sedan dan langsung mengajak untuk naik ke atas mobil.\\n\\nAgar tak menulis\\n\\nSetelah berada di atas mobil, salah seorang langsung pindah ke belakang dan langsung melayangkan tinju ke perut Dian sambil mengeluarkan kata-kata ancaman. \"Kamu orangnya ya, yang mau menulis tentang VCD porno,\" ujar Dian meniru ancaman orang yang menculiknya.\\n\\nSetelah diajak berkeliling, Dian kemudian dibawa ke sebuah rumah dan diberitahu untuk tinggal dulu sampai berita tentang VCD porno yang diproduksi di Batam hilang dari pasaran. Sejak itu, Dian dijaga oleh empat orang dan hanya diberi roti untuk makan dan ditambah dua batang rokok.\\n\\nMenurut Dian, dirinya bisa lolos setelah melakukan perlawanan dan lari pada saat hanya dijaga oleh satu orang saja. Setelah bisa keluar dari rumah pada Sabtu (24/2) sore, dia langsung berjalan ke kantor harian Lantang yang terdapat di Sei Panas.\\n\\nPemimpin Redaksi Harian Lantang, Taufik Muntasir yang dihubungi Kompas, mengutuk tindakan penculikan tersebut dan menegaskan bahwa korannya akan tetap lantang dalam melakukan investigasi mengenai pelanggaran hukum di Batam. Menurut Taufik, pembuatan film porno di Batam, sudah berlangsung sejak lama.\\n\\nTaufik yang juga mantan Ketua PWI Batam ini, mengimbau kepada seluruh wartawan di pulau ini untuk merapatkan barisan dalam memberitakan para pelanggar hukum yang melakukan tekanan kepada pers dengan kekerasan. Sebab di Batam, banyak reporter investigatif yang berisiko diculik atau dibunuh, misalnya meliput soal judi atau narkoba.   \\n\\n'"
      ]
     },
     "execution_count": 74,
     "metadata": {},
     "output_type": "execute_result"
    }
   ],
   "source": [
    "result.iloc[0]"
   ]
  },
  {
   "cell_type": "markdown",
   "metadata": {},
   "source": [
    "ini untuk menambah data baru pada bank data tfidf.transform([\"\"\"\n",
    "teks tambahan\"\"\"])"
   ]
  },
  {
   "cell_type": "markdown",
   "metadata": {},
   "source": [
    "# Keyword Extract"
   ]
  },
  {
   "cell_type": "code",
   "execution_count": 54,
   "metadata": {},
   "outputs": [
    {
     "data": {
      "text/plain": [
       "['zuniga memilih',\n",
       " 'zunnatul',\n",
       " 'zunnatul mafruhah',\n",
       " 'zurich',\n",
       " 'zurich northholt',\n",
       " 'zw',\n",
       " 'zw suparman',\n",
       " 'zw tim',\n",
       " 'zx',\n",
       " 'zx diserbu']"
      ]
     },
     "execution_count": 54,
     "metadata": {},
     "output_type": "execute_result"
    }
   ],
   "source": [
    "vocab = tfidf.get_feature_names()\n",
    "vocab[-10:]"
   ]
  },
  {
   "cell_type": "code",
   "execution_count": 58,
   "metadata": {},
   "outputs": [
    {
     "data": {
      "text/plain": [
       "array([[274201, 365453, 365452, ..., 386361, 436633, 169209]], dtype=int64)"
      ]
     },
     "execution_count": 58,
     "metadata": {},
     "output_type": "execute_result"
    }
   ],
   "source": [
    "sorted_tfidf = tfidf_matrix[0].toarray().argsort()\n",
    "sorted_tfidf"
   ]
  },
  {
   "cell_type": "code",
   "execution_count": 63,
   "metadata": {},
   "outputs": [
    {
     "name": "stdout",
     "output_type": "stream",
     "text": [
      "ginandjar 0.5905638389928064\n",
      "putusan 0.1978650873726769\n",
      "penahanan 0.18989176211580433\n",
      "hukum ginandjar 0.17318155723248\n",
      "kuasa hukum 0.14299510558625728\n",
      "rusman 0.13615815122356772\n",
      "kejaksaan 0.13298116108647093\n",
      "hakim rusman 0.13125826536502502\n",
      "kuasa 0.12217625708688831\n",
      "9 april 0.1178477353342584\n"
     ]
    }
   ],
   "source": [
    "for idx in reversed(sorted_tfidf[0, -10:]):\n",
    "    print(vocab[idx], tfidf_matrix[0].toarray()[0, idx])"
   ]
  },
  {
   "cell_type": "code",
   "execution_count": 64,
   "metadata": {},
   "outputs": [],
   "source": [
    "def extract_keywords_tfidf(doc, tfidf, topk=10):\n",
    "    vec = tfidf.transform([doc])\n",
    "    vocab = tfidf.get_feature_names()\n",
    "    \n",
    "    sorted_tfidf = vec.toarray().argsort()\n",
    "    return [vocab[idx] for idx in reversed(sorted_tfidf[0, -topk:])]"
   ]
  },
  {
   "cell_type": "code",
   "execution_count": 67,
   "metadata": {},
   "outputs": [],
   "source": [
    "text2 = \"\"\"\n",
    "Amerikanisasi\n",
    "di luar amerika serikat , amerikanisasi adalah istilah untuk menyebut pengaruh yang dimiliki amerika serikat di negara lain , contohnya budaya masyarakat , masakan , teknologi , praktik bisnis , atau teknik politiknya .\n",
    "istilah ini sudah digunakan sejak tahun 1907 .\n",
    "di amerika serikat sendiri , kata amerikanisasi berarti proses akulturasi adat dan nilai-nilai amerika serikat oleh imigran atau penduduk yang dianeksasi ( misalnya california ) .\n",
    "hollywood ( industri film dan televisi amerika serikat ) mendominasi sebagian besar pasar media dunia .\n",
    "inilah medium yang dipakai orang-orang di seluruh dunia untuk melihat gaya , adat , suasana , dan cara hidup amerika serikat .\n",
    "beberapa perusahaan komputer terbesar di dunia juga berkantor pusat di amerika serikat , misalnya microsoft , apple , dell , dan ibm .\n",
    "sebagian besar perangkat lunak yang dibeli di seluruh dunia juga diciptakan oleh perusahaan-perusahaan amerika serikat .\n",
    "carayannis dan campbell menulis bahwa , \" secara global , amerika serikat memiliki posisi yang sangat kuat di sektor perangkat lunak .\n",
    "\"\n",
    "di jerman pada tahun 1920 - an , gerakan efisiensi amerika serikat disebut \" rasionalisasi \" .\n",
    "ini adalah gerakan sosial dan ekonomi yang cukup kuat .\n",
    "gerakan ini memandang secara berlebihan model - model amerika serikat , khususnya fordisme .\n",
    "\" rasionalisasi \" berarti produktivitas yang lebih tinggi dan efisiensi yang lebih besar , menjanjikan bahwa ilmu pengetahuan akan memberi kemakmuran .\n",
    "secara umum , rasionalisasi menjanjikan tingkatan modernitas baru dan diterapkan pada produksi dan konsumsi ekonomi dan administrasi publik .\n",
    "berbagai versi rasionalisasi diperkenalkan oleh para industrialis dan demokrat sosial , insinyur dan arsitek , pendidik dan akademisi , feminis dan pekerja sosial kelas menengah , pejabat pemerintahan dan politikus partai .\n",
    "sebagai ideologi dan praktik , rasionalisasi menantang dan mengubah tidak hanya mesin , pabrik , dan perusahaan bisnis , tetapi juga kehidupan warga jerman kelas menengah dan pekerja .\n",
    "selama 15 tahun sejak 1950 sampai 1965 , investasi amerika serikat di eropa melonjak 800 % menjadi $ 13,9 miliar dan di komunitas ekonomi eropa naik 10 kali lipat menjadi $ 6,25 miliar .\n",
    "pangsa eropa di dunia investasi amerika serikat naik dari 15 % ke 28 % .\n",
    "investasi adalah model amerikanisasi yang paling jelas dan sering diperbincangkan .\n",
    "meski begitu , investasi amerika di eropa hanya mewakili 5 % dari total investasi eropa dan perusahaan milik amerika di komunitas ekonomi eropa hanya mempekerjakan 2 atau 3 % total tenaga kerja .\n",
    "alasan yang mendasari investasi amerika serikat ini bukan lagi biaya produksi rendah , pertumbuhan ekonomi cepat , atau laba tinggi di eropa , tetapi keinginan untuk mempertahankan posisi bersaing yang didasari superioritas teknologi amerika serikat .\n",
    "penolakan investasi amerika serikat awalnya muncul di Perancis , kemudian menyebar ke negara-negara eropa lainnya .\n",
    "opini publik mulai menolak iklan dan metode bisnis amerika , kebijakan personel , dan pemakaian bahasa inggris oleh perusahaan-perusahaan amerika .\n",
    "kritik juga diarahkan ke sistem mata uang internasional yang dituduh sebagai penyebab kecenderungan inflasi akibat posisi dolar a.s. yang dominan .\n",
    "akan tetapi pada 1970 - an , investasi eropa di a.s. meningkat lebih cepat daripada sebelumnya .\n",
    "geir lundestad menemukan bahwa persepsi \" amerika serikat membeli eropa \" juga mulai berkurang .\n",
    "berghahn ( 2010 ) menganalisis perdebatan mengenai manfaat konsep ' amerikanisasi ' dan ' westernisasi ' .\n",
    "ia meninjau penelitian terkini mengenai hubungan eropa - amerika serikat selama perang dingin yang memengaruhi dampak budaya amerika serikat di eropa .\n",
    "ia kemudian mendiskusikan penelitian yang relevan terhadap subjek ini di bidang sejarah ekonomi dan bisnis .\n",
    "secara keseluruhan , artikelnya mencoba memaparkan bahwa orang-orang yang menerapkan konsep ' amerikanisasi ' ke penelitian mereka mengenai sejarah budaya dan / atau ekonomi sudah sadar tentang kerumitan hubungan lintas atlantik pada masa tersebut , apakah dipandang sebagai pertukaran dua arah atau proses sirkulasi .\n",
    "\"\"\""
   ]
  },
  {
   "cell_type": "code",
   "execution_count": 68,
   "metadata": {},
   "outputs": [
    {
     "data": {
      "text/plain": [
       "['amerika',\n",
       " 'amerika serikat',\n",
       " 'serikat',\n",
       " 'eropa',\n",
       " 'investasi amerika',\n",
       " 'rasionalisasi',\n",
       " 'investasi',\n",
       " 'ekonomi',\n",
       " 'ekonomi eropa',\n",
       " 'bisnis']"
      ]
     },
     "execution_count": 68,
     "metadata": {},
     "output_type": "execute_result"
    }
   ],
   "source": [
    "extract_keywords_tfidf(text2, tfidf)"
   ]
  },
  {
   "cell_type": "code",
   "execution_count": 69,
   "metadata": {},
   "outputs": [],
   "source": [
    "text3 = \"\"\"Juru bicara pemerintah untuk penanganan virus corona Achmad Yurianto mengatakan, pemerintah mengkhawatirkan keberadaan orang tanpa gejala (OTG) yang menjadi sumber penularan Covid-19 di tengah masyarakat. \"Kita masih tetap mewaspadai adanya penularan yang terjadi di lingkungan masyarakat. Ini disebabkan masih adanya kasus positif Covid-19 tanpa keluhan yang berada di tengah-tengah kita,\" ujar Yuri dalam konferensi pers di Graha BNPB, Sabtu (4/4/2020)\n",
    "\n",
    "Artikel ini telah tayang di Kompas.com dengan judul \"Jumlah Kasus Covid-19 Terus Bertambah, Pemerintah Khawatirkan Penularan dari OTG\", https://nasional.kompas.com/read/2020/04/04/18382271/jumlah-kasus-covid-19-terus-bertambah-pemerintah-khawatirkan-penularan-dari.\n",
    "Penulis : Dian Erika Nugraheny\n",
    "Editor : Kristian Erdianto\n",
    "\"\"\""
   ]
  },
  {
   "cell_type": "code",
   "execution_count": 70,
   "metadata": {},
   "outputs": [
    {
     "data": {
      "text/plain": [
       "['penularan',\n",
       " 'keberadaan orang',\n",
       " 'bertambah pemerintah',\n",
       " 'masyarakat disebabkan',\n",
       " 'orang gejala',\n",
       " 'yuri',\n",
       " '`` mewaspadai',\n",
       " 'lingkungan masyarakat',\n",
       " 'pemerintah mengkhawatirkan',\n",
       " \"tengah-tengah ''\"]"
      ]
     },
     "execution_count": 70,
     "metadata": {},
     "output_type": "execute_result"
    }
   ],
   "source": [
    "extract_keywords_tfidf(text3, tfidf)"
   ]
  }
 ],
 "metadata": {
  "kernelspec": {
   "display_name": "Python [conda env:jcopml]",
   "language": "python",
   "name": "conda-env-jcopml-py"
  },
  "language_info": {
   "codemirror_mode": {
    "name": "ipython",
    "version": 3
   },
   "file_extension": ".py",
   "mimetype": "text/x-python",
   "name": "python",
   "nbconvert_exporter": "python",
   "pygments_lexer": "ipython3",
   "version": "3.7.0"
  }
 },
 "nbformat": 4,
 "nbformat_minor": 2
}
